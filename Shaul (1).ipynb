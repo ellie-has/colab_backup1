{
  "nbformat": 4,
  "nbformat_minor": 0,
  "metadata": {
    "colab": {
      "provenance": [],
      "collapsed_sections": [
        "CktEUCdVPVEz",
        "JJ-X7st2P4nO",
        "lXgEk4Dl0fwf"
      ]
    },
    "kernelspec": {
      "name": "python3",
      "display_name": "Python 3"
    },
    "language_info": {
      "name": "python"
    }
  },
  "cells": [
    {
      "cell_type": "markdown",
      "source": [
        "# HW2"
      ],
      "metadata": {
        "id": "CktEUCdVPVEz"
      }
    },
    {
      "cell_type": "markdown",
      "source": [
        "##### HW2Q1"
      ],
      "metadata": {
        "id": "wCON1kmHNEmJ"
      }
    },
    {
      "cell_type": "code",
      "source": [
        "letter1 = input()\n",
        "letter2 = input()\n",
        "letter3 = input()"
      ],
      "metadata": {
        "colab": {
          "base_uri": "https://localhost:8080/"
        },
        "id": "tN9B3SjfkJ-V",
        "outputId": "76aeca16-cf04-4795-ef3b-b0fbe59dacf0"
      },
      "execution_count": null,
      "outputs": [
        {
          "name": "stdout",
          "output_type": "stream",
          "text": [
            "A\n",
            "B\n",
            "C\n"
          ]
        }
      ]
    },
    {
      "cell_type": "code",
      "source": [
        "reverse1 = chr(ord('Z') - (ord(letter1) - ord('A')))\n",
        "reverse2 = chr(ord('Z') - (ord(letter2) - ord('A')))\n",
        "reverse3 = chr(ord('Z') - (ord(letter3) - ord('A')))"
      ],
      "metadata": {
        "id": "Ikwpx067kJ7C"
      },
      "execution_count": null,
      "outputs": []
    },
    {
      "cell_type": "code",
      "source": [
        "print(reverse1 + reverse2 + reverse3)"
      ],
      "metadata": {
        "colab": {
          "base_uri": "https://localhost:8080/"
        },
        "id": "0FXxc5T-kJy5",
        "outputId": "5658e2ac-a747-4487-fb49-185b854a9064"
      },
      "execution_count": null,
      "outputs": [
        {
          "output_type": "stream",
          "name": "stdout",
          "text": [
            "ZYX\n"
          ]
        }
      ]
    },
    {
      "cell_type": "code",
      "source": [
        "sum_of_positions = (ord(letter1) - ord('A')) + (ord(letter2) - ord('A')) + (ord(letter3) - ord('A'))\n",
        "print(sum_of_positions)"
      ],
      "metadata": {
        "colab": {
          "base_uri": "https://localhost:8080/"
        },
        "id": "y837rn5pkJkD",
        "outputId": "bbe385bc-665b-46cc-a478-ed8c8a82b790"
      },
      "execution_count": null,
      "outputs": [
        {
          "output_type": "stream",
          "name": "stdout",
          "text": [
            "36\n"
          ]
        }
      ]
    },
    {
      "cell_type": "markdown",
      "source": [
        "##### HW2Q2"
      ],
      "metadata": {
        "id": "6O_JemYCkswM"
      }
    },
    {
      "cell_type": "code",
      "source": [
        "number = int(input(\"insert nuber contains betwen 2 to 4 digits: \"))\n",
        "num_str = str(number)\n",
        "diff_fist = abs(int(num_str[0]) - int(num_str[1]))\n",
        "diff_last = abs(int(num_str[0]) - int(num_str[-1]))\n",
        "is_valid = (diff_fist == diff_last)\n",
        "\n",
        "print(diff_fist, diff_last)\n",
        "print(is_valid)"
      ],
      "metadata": {
        "colab": {
          "base_uri": "https://localhost:8080/"
        },
        "id": "CW0GGOYNHJb4",
        "outputId": "d5dfa4e4-33fd-43f3-fb85-bbd1f272c037"
      },
      "execution_count": null,
      "outputs": [
        {
          "output_type": "stream",
          "name": "stdout",
          "text": [
            "insert nuber contains betwen 2 to 4 digits: 123\n",
            "1 2\n",
            "False\n"
          ]
        }
      ]
    },
    {
      "cell_type": "markdown",
      "source": [
        "##### HW2Q3"
      ],
      "metadata": {
        "id": "HcZCoNGQm86s"
      }
    },
    {
      "cell_type": "code",
      "source": [
        "x = int(input())\n",
        "y = int(input())\n",
        "\n",
        "if (x % 3 == 0 and x % 2 != 0) or (y % 3 == 0 and y % 2 != 0) or (x == 0 or y == 0):\n",
        "    print(\"You have excellent numbers.\")\n",
        "else: \n",
        "    print(\"You lose.\")"
      ],
      "metadata": {
        "colab": {
          "base_uri": "https://localhost:8080/"
        },
        "id": "wy065BybL7BZ",
        "outputId": "e3e2432e-59b9-403d-a359-f97e008c1c0d"
      },
      "execution_count": null,
      "outputs": [
        {
          "output_type": "stream",
          "name": "stdout",
          "text": [
            "20\n",
            "0\n",
            "You have excellent numbers.\n"
          ]
        }
      ]
    },
    {
      "cell_type": "markdown",
      "source": [
        "# HW3"
      ],
      "metadata": {
        "id": "PczgsnT9PzYt"
      }
    },
    {
      "cell_type": "markdown",
      "source": [
        "### HW3Q1"
      ],
      "metadata": {
        "id": "JJ-X7st2P4nO"
      }
    },
    {
      "cell_type": "code",
      "source": [
        "lst_num_input = input().split(',')\n",
        "lst_input = []\n",
        "\n",
        "for num in lst_num_input:\n",
        "    lst_input.append(int(num))\n",
        "\n",
        "continuous_num = []\n",
        "count = 1\n",
        "\n",
        "for i in range(1, len(lst_input)):\n",
        "    if lst_input[i] == lst_input[i-1]:\n",
        "        count += 1\n",
        "    else:\n",
        "        count = 1\n",
        "\n",
        "    if count >= 3 and lst_input[i] not in continuous_num:\n",
        "        continuous_num.append(lst_input[i])\n",
        "\n",
        "continuous_num_result = []\n",
        "for num in continuous_num:\n",
        "    continuous_num_result.append(str(num))\n",
        "\n",
        "print(continuous_num_result)"
      ],
      "metadata": {
        "colab": {
          "base_uri": "https://localhost:8080/"
        },
        "id": "yBxKqicAFOG1",
        "outputId": "af7f6645-0691-4045-b875-19c7c05039a4"
      },
      "execution_count": null,
      "outputs": [
        {
          "output_type": "stream",
          "name": "stdout",
          "text": [
            "10,10,10,11,12,12,12,12,13,13\n",
            "['10', '12']\n"
          ]
        }
      ]
    },
    {
      "cell_type": "markdown",
      "source": [
        "### HW3Q2"
      ],
      "metadata": {
        "id": "lXgEk4Dl0fwf"
      }
    },
    {
      "cell_type": "code",
      "source": [
        "grocery_lst = input().split(',')\n",
        "qty_lst = []\n",
        "\n",
        "qty_input = input().split(',')\n",
        "for qty in qty_input:\n",
        "    qty_lst.append(int(qty))\n",
        "\n",
        "qty_lst_result = []\n",
        "\n",
        "for qty in qty_lst:\n",
        "    if qty > 0:\n",
        "        qty_lst_result.append(qty)\n",
        "\n",
        "for i in range(len(grocery_lst)):\n",
        "    item = grocery_lst[i]\n",
        "    if i < len(qty_lst_result):\n",
        "        count = qty_lst_result[i]\n",
        "        for j in range(count):\n",
        "            print(item)"
      ],
      "metadata": {
        "colab": {
          "base_uri": "https://localhost:8080/"
        },
        "id": "fNxvbW3eJFhB",
        "outputId": "0475aaa9-32e8-4d36-f8b7-cc2d41692712"
      },
      "execution_count": null,
      "outputs": [
        {
          "output_type": "stream",
          "name": "stdout",
          "text": [
            "milk,bread,honey,tomato\n",
            "1,2,1,0\n",
            "milk\n",
            "bread\n",
            "bread\n",
            "honey\n"
          ]
        }
      ]
    },
    {
      "cell_type": "markdown",
      "source": [
        "### HW3Q3"
      ],
      "metadata": {
        "id": "sXWZ2CqANjUr"
      }
    },
    {
      "cell_type": "code",
      "source": [
        "city_price_lst = input().split(\",\")\n",
        "cities = []\n",
        "rent = []\n",
        "\n",
        "for i in range(0, len(city_price_lst), 2):\n",
        "    cities.append(city_price_lst[i])\n",
        "    rent.append(int(city_price_lst[i + 1]))  \n",
        "\n",
        "\n",
        "cities_lst = []\n",
        "\n",
        "for i in range(len(cities)):\n",
        "    city = cities[i]\n",
        "    if city in cities_lst:\n",
        "        continue\n",
        "\n",
        "    total_rent = rent[i]\n",
        "    count = 1\n",
        "\n",
        "    for j in range(i+1, len(cities)):\n",
        "        if cities[j] == city:\n",
        "            total_rent += rent[j]\n",
        "            count += 1\n",
        "\n",
        "    average_rent = total_rent // count\n",
        "    cities_lst.append(city)\n",
        "\n",
        "    print(f\"{city}: {average_rent}\")"
      ],
      "metadata": {
        "colab": {
          "base_uri": "https://localhost:8080/"
        },
        "id": "cw_NkZ4Rd_8R",
        "outputId": "27344625-c286-43ce-bf18-d13aa8d6427c"
      },
      "execution_count": null,
      "outputs": [
        {
          "output_type": "stream",
          "name": "stdout",
          "text": [
            "Haifa,2000,Tel Aviv,6000,Tel Aviv,4800,Haifa,2400,New-York,9000,Paris,4570,Paris,5638,New-York,8900\n",
            "Haifa: 2200\n",
            "Tel Aviv: 5400\n",
            "New-York: 8950\n",
            "Paris: 5104\n"
          ]
        }
      ]
    }
  ]
}